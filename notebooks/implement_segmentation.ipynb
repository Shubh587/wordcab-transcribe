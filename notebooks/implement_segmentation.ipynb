{
 "cells": [
  {
   "cell_type": "code",
   "execution_count": 1,
   "metadata": {},
   "outputs": [],
   "source": [
    "import hashlib\n",
    "import os\n",
    "import tarfile\n",
    "import wget\n",
    "import yaml\n",
    "from pathlib import Path\n",
    "from typing import Optional, Tuple, Union\n",
    "\n",
    "import torch\n",
    "import torch.nn as nn\n",
    "\n",
    "\n",
    "def resolve_diarization_cache_dir() -> Path:\n",
    "    \"\"\"\n",
    "    Utility method to get the cache directory for the diarization module.\n",
    "\n",
    "    Returns:\n",
    "        Path: The path to the cache directory.\n",
    "    \"\"\"\n",
    "    path = Path.joinpath(Path.home(), f\".cache/torch/diarization\")\n",
    "\n",
    "    return path"
   ]
  },
  {
   "cell_type": "code",
   "execution_count": 2,
   "metadata": {},
   "outputs": [],
   "source": [
    "# Inspired from NVIDIA NeMo's EncDecSpeakerLabelModel\n",
    "# https://github.com/NVIDIA/NeMo/blob/main/nemo/collections/asr/models/label_models.py#L67\n",
    "class EncDecSpeakerLabelModel:\n",
    "    \"\"\"The EncDecSpeakerLabelModel class encapsulates the encoder-decoder speaker label model.\"\"\"\n",
    "\n",
    "    def __init__(self, model_name: str = \"titanet_large\") -> None:\n",
    "        \"\"\"Initialize the EncDecSpeakerLabelModel class.\n",
    "\n",
    "        The EncDecSpeakerLabelModel class encapsulates the encoder-decoder speaker label model.\n",
    "        Only the \"titanet_large\" model is supported at the moment.\n",
    "        For more models: https://github.com/NVIDIA/NeMo/blob/main/nemo/collections/asr/models/label_models.py#L59\n",
    "\n",
    "        Args:\n",
    "            model_name (str, optional): The name of the model to use. Defaults to \"titanet_large\".\n",
    "\n",
    "        Raises:\n",
    "            ValueError: If the model name is not supported.\n",
    "        \"\"\"\n",
    "        if model_name != \"titanet_large\":\n",
    "            raise ValueError(\n",
    "                f\"Unknown model name: {model_name}. Only 'titanet_large' is supported at the moment.\"\n",
    "            )\n",
    "\n",
    "        self.model_name = model_name\n",
    "        self.location_in_the_cloud = \"https://api.ngc.nvidia.com/v2/models/nvidia/nemo/titanet_large/versions/v1/files/titanet-l.nemo\"\n",
    "        self.cache_dir = Path.joinpath(resolve_diarization_cache_dir(), \"titanet-l\")\n",
    "        cache_subfolder = hashlib.md5((self.location_in_the_cloud).encode(\"utf-8\")).hexdigest()\n",
    "\n",
    "        self.nemo_model_folder, self.nemo_model_file = self.download_model_if_required(\n",
    "            url=self.location_in_the_cloud, cache_dir=self.cache_dir, subfolder=cache_subfolder,\n",
    "        )\n",
    "\n",
    "        self.model_files = Path.joinpath(self.nemo_model_folder, \"model_files\")\n",
    "        if not self.model_files.exists():\n",
    "            self.model_files.mkdir(parents=True, exist_ok=True)\n",
    "            self.unpack_nemo_file(self.nemo_model_file, self.model_files)\n",
    "\n",
    "        model_weights_file_path = Path.joinpath(self.model_files, \"model_weights.ckpt\")\n",
    "        model_config_file_path = Path.joinpath(self.model_files, \"model_config.yaml\")\n",
    "        with open(model_config_file_path, \"r\") as config_file:\n",
    "            self.model_config = yaml.safe_load(config_file)\n",
    "\n",
    "\n",
    "    @staticmethod\n",
    "    def download_model_if_required(url, subfolder=None, cache_dir=None) -> Tuple[str, str]:\n",
    "        \"\"\"\n",
    "        Helper function to download pre-trained weights from the cloud.\n",
    "\n",
    "        Args:\n",
    "            url: (str) URL to download from.\n",
    "            cache_dir: (str) a cache directory where to download. If not present, this function will attempt to create it.\n",
    "                If None (default), then it will be $HOME/.cache/torch/diarization\n",
    "            subfolder: (str) subfolder within cache_dir. The file will be stored in cache_dir/subfolder. Subfolder can\n",
    "                be empty\n",
    "\n",
    "        Returns:\n",
    "            Tuple[str, str]: cache_dir and filepath to the downloaded file.\n",
    "        \"\"\"\n",
    "        destination = Path.joinpath(cache_dir, subfolder)\n",
    "\n",
    "        if not destination.exists():\n",
    "            destination.mkdir(parents=True, exist_ok=True)\n",
    "\n",
    "        filename = url.split(\"/\")[-1]\n",
    "        destination_file = Path.joinpath(destination, filename)\n",
    "\n",
    "        if destination_file.exists():\n",
    "            return destination, destination_file\n",
    "\n",
    "        i = 0\n",
    "        while i < 10:  # try 10 times\n",
    "            i += 1\n",
    "\n",
    "            try:\n",
    "                wget.download(url, str(destination_file))\n",
    "                if os.path.exists(destination_file):\n",
    "                    return destination, destination_file\n",
    "\n",
    "            except:\n",
    "                continue\n",
    "\n",
    "        raise ValueError(\"Not able to download the diarization model, please try again later.\")\n",
    "    \n",
    "    @staticmethod\n",
    "    def unpack_nemo_file(filepath: Path, out_folder: Path) -> str:\n",
    "        \"\"\"\n",
    "        Unpacks a .nemo file into a folder.\n",
    "\n",
    "        Args:\n",
    "            filepath (Path): path to the .nemo file (can be compressed or uncompressed)\n",
    "            out_folder (Path): path to the folder where the .nemo file should be unpacked\n",
    "\n",
    "        Returns:\n",
    "            path to the unpacked folder\n",
    "        \"\"\"\n",
    "        try:\n",
    "            tar = tarfile.open(filepath, \"r:\")  # try uncompressed\n",
    "        except tarfile.ReadError:\n",
    "            tar = tarfile.open(filepath, \"r:gz\")  # try compressed\n",
    "        finally:\n",
    "            tar.extractall(path=out_folder)\n",
    "            tar.close()\n"
   ]
  },
  {
   "cell_type": "code",
   "execution_count": 3,
   "metadata": {},
   "outputs": [],
   "source": [
    "model = EncDecSpeakerLabelModel()"
   ]
  },
  {
   "cell_type": "code",
   "execution_count": 4,
   "metadata": {},
   "outputs": [],
   "source": [
    "encoder = model.model_config[\"encoder\"]\n",
    "decoder = model.model_config[\"decoder\"]\n",
    "preprocessor = model.model_config[\"preprocessor\"]"
   ]
  },
  {
   "cell_type": "code",
   "execution_count": 5,
   "metadata": {},
   "outputs": [
    {
     "name": "stdout",
     "output_type": "stream",
     "text": [
      "{'_target_': 'nemo.collections.asr.modules.ConvASREncoder', 'feat_in': 80, 'activation': 'relu', 'conv_mask': True, 'jasper': [{'filters': 1024, 'repeat': 1, 'kernel': [3], 'stride': [1], 'dilation': [1], 'dropout': 0.0, 'residual': False, 'separable': True, 'se': True, 'se_context_size': -1}, {'filters': 1024, 'repeat': 3, 'kernel': [7], 'stride': [1], 'dilation': [1], 'dropout': 0.1, 'residual': True, 'separable': True, 'se': True, 'se_context_size': -1}, {'filters': 1024, 'repeat': 3, 'kernel': [11], 'stride': [1], 'dilation': [1], 'dropout': 0.1, 'residual': True, 'separable': True, 'se': True, 'se_context_size': -1}, {'filters': 1024, 'repeat': 3, 'kernel': [15], 'stride': [1], 'dilation': [1], 'dropout': 0.1, 'residual': True, 'separable': True, 'se': True, 'se_context_size': -1}, {'filters': 3072, 'repeat': 1, 'kernel': [1], 'stride': [1], 'dilation': [1], 'dropout': 0.0, 'residual': False, 'separable': True, 'se': True, 'se_context_size': -1}]}\n"
     ]
    }
   ],
   "source": [
    "print(encoder)"
   ]
  },
  {
   "cell_type": "code",
   "execution_count": 6,
   "metadata": {},
   "outputs": [
    {
     "name": "stdout",
     "output_type": "stream",
     "text": [
      "{'_target_': 'nemo.collections.asr.modules.SpeakerDecoder', 'feat_in': 3072, 'num_classes': 16681, 'pool_mode': 'attention', 'emb_sizes': 192}\n"
     ]
    }
   ],
   "source": [
    "print(decoder)"
   ]
  },
  {
   "cell_type": "code",
   "execution_count": 7,
   "metadata": {},
   "outputs": [
    {
     "name": "stdout",
     "output_type": "stream",
     "text": [
      "{'_target_': 'nemo.collections.asr.modules.AudioToMelSpectrogramPreprocessor', 'normalize': 'per_feature', 'window_size': 0.025, 'sample_rate': 16000, 'window_stride': 0.01, 'window': 'hann', 'features': 80, 'n_fft': 512, 'frame_splicing': 1, 'dither': 1e-05}\n"
     ]
    }
   ],
   "source": [
    "print(preprocessor)"
   ]
  },
  {
   "cell_type": "code",
   "execution_count": 8,
   "metadata": {},
   "outputs": [
    {
     "name": "stdout",
     "output_type": "stream",
     "text": [
      "{'filters': 1024, 'repeat': 1, 'kernel': [3], 'stride': [1], 'dilation': [1], 'dropout': 0.0, 'residual': False, 'separable': True, 'se': True, 'se_context_size': -1}\n",
      "{'filters': 1024, 'repeat': 3, 'kernel': [7], 'stride': [1], 'dilation': [1], 'dropout': 0.1, 'residual': True, 'separable': True, 'se': True, 'se_context_size': -1}\n",
      "{'filters': 1024, 'repeat': 3, 'kernel': [11], 'stride': [1], 'dilation': [1], 'dropout': 0.1, 'residual': True, 'separable': True, 'se': True, 'se_context_size': -1}\n",
      "{'filters': 1024, 'repeat': 3, 'kernel': [15], 'stride': [1], 'dilation': [1], 'dropout': 0.1, 'residual': True, 'separable': True, 'se': True, 'se_context_size': -1}\n",
      "{'filters': 3072, 'repeat': 1, 'kernel': [1], 'stride': [1], 'dilation': [1], 'dropout': 0.0, 'residual': False, 'separable': True, 'se': True, 'se_context_size': -1}\n"
     ]
    }
   ],
   "source": [
    "for item in encoder[\"jasper\"]:\n",
    "    print(item)"
   ]
  },
  {
   "cell_type": "code",
   "execution_count": null,
   "metadata": {},
   "outputs": [],
   "source": []
  }
 ],
 "metadata": {
  "kernelspec": {
   "display_name": "base",
   "language": "python",
   "name": "python3"
  },
  "language_info": {
   "codemirror_mode": {
    "name": "ipython",
    "version": 3
   },
   "file_extension": ".py",
   "mimetype": "text/x-python",
   "name": "python",
   "nbconvert_exporter": "python",
   "pygments_lexer": "ipython3",
   "version": "3.9.16"
  },
  "orig_nbformat": 4
 },
 "nbformat": 4,
 "nbformat_minor": 2
}
